{
 "cells": [
  {
   "cell_type": "markdown",
   "metadata": {
    "editable": true
   },
   "source": [
    "## Run the following notebook on your EMR cluster that has Spark in it. Make sure the kernel is PySpark"
   ]
  },
  {
   "cell_type": "markdown",
   "metadata": {
    "editable": true
   },
   "source": [
    "## Start Spark Application"
   ]
  },
  {
   "cell_type": "code",
   "execution_count": 1,
   "metadata": {
    "editable": true
   },
   "outputs": [
    {
     "data": {
      "application/vnd.jupyter.widget-view+json": {
       "model_id": "d9bf0d225b274b63a2da9318a07bfc0c",
       "version_major": 2,
       "version_minor": 0
      },
      "text/plain": [
       "VBox()"
      ]
     },
     "metadata": {},
     "output_type": "display_data"
    },
    {
     "name": "stdout",
     "output_type": "stream",
     "text": [
      "Starting Spark application\n"
     ]
    },
    {
     "data": {
      "text/html": [
       "<table>\n",
       "<tr><th>ID</th><th>YARN Application ID</th><th>Kind</th><th>State</th><th>Spark UI</th><th>Driver log</th><th>Current session?</th></tr><tr><td>1</td><td>application_1591916000192_0002</td><td>pyspark</td><td>idle</td><td><a target=\"_blank\" href=\"http://ip-172-31-26-38.us-east-2.compute.internal:20888/proxy/application_1591916000192_0002/\">Link</a></td><td><a target=\"_blank\" href=\"http://ip-172-31-30-54.us-east-2.compute.internal:8042/node/containerlogs/container_1591916000192_0002_01_000001/livy\">Link</a></td><td>✔</td></tr></table>"
      ],
      "text/plain": [
       "<IPython.core.display.HTML object>"
      ]
     },
     "metadata": {},
     "output_type": "display_data"
    },
    {
     "data": {
      "application/vnd.jupyter.widget-view+json": {
       "model_id": "",
       "version_major": 2,
       "version_minor": 0
      },
      "text/plain": [
       "FloatProgress(value=0.0, bar_style='info', description='Progress:', layout=Layout(height='25px', width='50%'),…"
      ]
     },
     "metadata": {},
     "output_type": "display_data"
    },
    {
     "name": "stdout",
     "output_type": "stream",
     "text": [
      "SparkSession available as 'spark'.\n"
     ]
    },
    {
     "data": {
      "application/vnd.jupyter.widget-view+json": {
       "model_id": "",
       "version_major": 2,
       "version_minor": 0
      },
      "text/plain": [
       "FloatProgress(value=0.0, bar_style='info', description='Progress:', layout=Layout(height='25px', width='50%'),…"
      ]
     },
     "metadata": {},
     "output_type": "display_data"
    }
   ],
   "source": [
    "%%spark"
   ]
  },
  {
   "cell_type": "markdown",
   "metadata": {
    "editable": true
   },
   "source": [
    "## Import Necessary modules"
   ]
  },
  {
   "cell_type": "code",
   "execution_count": 2,
   "metadata": {
    "editable": true
   },
   "outputs": [
    {
     "data": {
      "application/vnd.jupyter.widget-view+json": {
       "model_id": "e6e5b03eedbc4fa5b1c0fb48650fb98a",
       "version_major": 2,
       "version_minor": 0
      },
      "text/plain": [
       "VBox()"
      ]
     },
     "metadata": {},
     "output_type": "display_data"
    },
    {
     "data": {
      "application/vnd.jupyter.widget-view+json": {
       "model_id": "",
       "version_major": 2,
       "version_minor": 0
      },
      "text/plain": [
       "FloatProgress(value=0.0, bar_style='info', description='Progress:', layout=Layout(height='25px', width='50%'),…"
      ]
     },
     "metadata": {},
     "output_type": "display_data"
    }
   ],
   "source": [
    "from pyspark.sql import functions as F\n",
    "from pyspark.sql.functions import udf, col\n",
    "from pyspark.sql.functions import year, month, dayofmonth, hour, weekofyear, date_format"
   ]
  },
  {
   "cell_type": "markdown",
   "metadata": {
    "editable": true
   },
   "source": [
    "### Function that reads all the json files from 's3a://udacity-dend/song_data/' Processes the data and stores into the destination S3 bucket"
   ]
  },
  {
   "cell_type": "code",
   "execution_count": 3,
   "metadata": {
    "editable": true
   },
   "outputs": [
    {
     "data": {
      "application/vnd.jupyter.widget-view+json": {
       "model_id": "b3514628a07449b6a9644901c162a62c",
       "version_major": 2,
       "version_minor": 0
      },
      "text/plain": [
       "VBox()"
      ]
     },
     "metadata": {},
     "output_type": "display_data"
    },
    {
     "data": {
      "application/vnd.jupyter.widget-view+json": {
       "model_id": "",
       "version_major": 2,
       "version_minor": 0
      },
      "text/plain": [
       "FloatProgress(value=0.0, bar_style='info', description='Progress:', layout=Layout(height='25px', width='50%'),…"
      ]
     },
     "metadata": {},
     "output_type": "display_data"
    }
   ],
   "source": [
    "def process_song_data(input_data, output_data):\n",
    "    \"\"\"\n",
    "    Reads all the json files from s3 bucket located in s3a://udacity-dend/song_data/\n",
    "    Transforms the input and creates the songs and artists dimension table\n",
    "    Stores the result in parquet format in \n",
    "    s3a://songplay-analysis/dim_songs and s3a://songplay-analysis/dim_artists\n",
    "    \n",
    "    input to the function:\n",
    "        input_data : Path to the source data\n",
    "        output data : Path to store output data\n",
    "    \"\"\"\n",
    "    song_data = input_data + \"song_data/*/*/*/*.json\"\n",
    "    \n",
    "    df = spark.read.json(song_data)\n",
    "\n",
    "    songs_table = df.select(\n",
    "        'song_id', \n",
    "        'title', \n",
    "        'artist_id',\n",
    "        'year', \n",
    "        'duration'\n",
    "        ).distinct()\n",
    "    \n",
    "    songs_table.write.parquet(output_data + \"dim_songs\", mode = 'overwrite')\n",
    "    \n",
    "    artists_table = artists_table = (\n",
    "        df.select(\n",
    "            'artist_id',\n",
    "            col('artist_name').alias('name'),\n",
    "            col('artist_location').alias('location'),\n",
    "            col('artist_latitude').alias('latitude'),\n",
    "            col('artist_longitude').alias('longitude'),\n",
    "        ).distinct()\n",
    "    )\n",
    "    \n",
    "    artists_table.write.parquet(output_data + \"dim_artists\", mode='overwrite')"
   ]
  },
  {
   "cell_type": "markdown",
   "metadata": {
    "editable": true
   },
   "source": [
    "### Function that reads all the json files from 's3a://udacity-dend/log_data/' Processes the data and stores into the destination S3 bucket"
   ]
  },
  {
   "cell_type": "code",
   "execution_count": 8,
   "metadata": {
    "editable": true
   },
   "outputs": [
    {
     "data": {
      "application/vnd.jupyter.widget-view+json": {
       "model_id": "6b1ff35369394c33b48f90d019300126",
       "version_major": 2,
       "version_minor": 0
      },
      "text/plain": [
       "VBox()"
      ]
     },
     "metadata": {},
     "output_type": "display_data"
    },
    {
     "data": {
      "application/vnd.jupyter.widget-view+json": {
       "model_id": "",
       "version_major": 2,
       "version_minor": 0
      },
      "text/plain": [
       "FloatProgress(value=0.0, bar_style='info', description='Progress:', layout=Layout(height='25px', width='50%'),…"
      ]
     },
     "metadata": {},
     "output_type": "display_data"
    }
   ],
   "source": [
    "def process_log_data(input_data, output_data):\n",
    "    \"\"\"\n",
    "    Reads all the json files from s3 bucket located in s3a://udacity-dend/log_data/\n",
    "    Transforms the input and creates the users and time dimension table and songplays fact table\n",
    "    Stores the result in parquet format in \n",
    "    s3a://songplay-analysis/dim_songs and s3a://songplay-analysis/dim_artists \n",
    "    and s3a://songplay-analysis/fact_sonplays.\n",
    "    \n",
    "    input to the function:\n",
    "        input_data : Path to the source data\n",
    "        output data : Path to store output data\n",
    "    \"\"\"\n",
    "    log_data =  input_data + 'log_data/*/*/*.json'\n",
    "\n",
    "    df = spark.read.json(log_data)\n",
    "    df = df.where(df.page == 'NextSong')\n",
    "   \n",
    "    users_table = (\n",
    "        df.select(\n",
    "            col('userId').alias('user_id'),\n",
    "            col('firstName').alias('first_name'),\n",
    "            col('lastName').alias('last_name'),\n",
    "            col('gender').alias('gender'),\n",
    "            col('level').alias('level')\n",
    "        ).distinct()\n",
    "    )\n",
    "    \n",
    "    users_table.write.parquet(output_data + \"dim_users\", mode=\"overwrite\")\n",
    "\n",
    "    df = df.withColumn(\n",
    "        \"start_time\",\n",
    "        F.to_timestamp(F.from_unixtime((col(\"ts\") / 1000) , 'yyyy-MM-dd HH:mm:ss.SSS')).cast(\"Timestamp\")\n",
    "    ) \n",
    "    \n",
    "    time_table = df.select(\"start_time\").dropDuplicates() \\\n",
    "                       .withColumn(\"hour\", hour(col(\"start_time\"))) \\\n",
    "                       .withColumn(\"day\", dayofmonth(col(\"start_time\"))) \\\n",
    "                       .withColumn(\"week\", weekofyear(col(\"start_time\"))) \\\n",
    "                       .withColumn(\"month\", month(col(\"start_time\"))) \\\n",
    "                       .withColumn(\"year\", year(col(\"start_time\"))) \\\n",
    "                       .withColumn(\"weekday\", date_format(col(\"start_time\"), 'E'))\n",
    "     \n",
    "    \n",
    "    time_table.write.parquet(output_data + \"dim_time\", mode=\"overwrite\")\n",
    "\n",
    "    song_df = spark.read.parquet(output_data + \"dim_songs\")\n",
    "\n",
    "    songplays_table = (\n",
    "        df.withColumn(\"songplay_id\", F.monotonically_increasing_id())\n",
    "          .join(song_df, song_df.title == df.song)\n",
    "          .select(\n",
    "            \"songplay_id\",\n",
    "            col(\"start_time\"),\n",
    "            col(\"userId\").alias(\"user_id\"),\n",
    "            \"level\",\n",
    "            \"song_id\",\n",
    "            \"artist_id\",\n",
    "            col(\"sessionId\").alias(\"session_id\"),\n",
    "            \"location\",\n",
    "            col(\"userAgent\").alias(\"user_agent\")\n",
    "          )\n",
    "    )\n",
    "\n",
    "    songplays_table.write.parquet(output_data + \"fact_songplays\", mode=\"overwrite\")\n"
   ]
  },
  {
   "cell_type": "markdown",
   "metadata": {
    "editable": true
   },
   "source": [
    "#### Input and output data location"
   ]
  },
  {
   "cell_type": "code",
   "execution_count": 5,
   "metadata": {
    "editable": true
   },
   "outputs": [
    {
     "data": {
      "application/vnd.jupyter.widget-view+json": {
       "model_id": "0fe3b49d427d429e9d27fe33b9506bd3",
       "version_major": 2,
       "version_minor": 0
      },
      "text/plain": [
       "VBox()"
      ]
     },
     "metadata": {},
     "output_type": "display_data"
    },
    {
     "data": {
      "application/vnd.jupyter.widget-view+json": {
       "model_id": "",
       "version_major": 2,
       "version_minor": 0
      },
      "text/plain": [
       "FloatProgress(value=0.0, bar_style='info', description='Progress:', layout=Layout(height='25px', width='50%'),…"
      ]
     },
     "metadata": {},
     "output_type": "display_data"
    }
   ],
   "source": [
    "input_data = \"s3a://udacity-dend/\"\n",
    "output_data = \"s3a://songplay-analysis/\""
   ]
  },
  {
   "cell_type": "code",
   "execution_count": 6,
   "metadata": {
    "editable": true
   },
   "outputs": [
    {
     "data": {
      "application/vnd.jupyter.widget-view+json": {
       "model_id": "c10df304fd5248ea96d5f13fde8b41ec",
       "version_major": 2,
       "version_minor": 0
      },
      "text/plain": [
       "VBox()"
      ]
     },
     "metadata": {},
     "output_type": "display_data"
    },
    {
     "data": {
      "application/vnd.jupyter.widget-view+json": {
       "model_id": "",
       "version_major": 2,
       "version_minor": 0
      },
      "text/plain": [
       "FloatProgress(value=0.0, bar_style='info', description='Progress:', layout=Layout(height='25px', width='50%'),…"
      ]
     },
     "metadata": {},
     "output_type": "display_data"
    }
   ],
   "source": [
    "process_song_data(input_data, output_data)    "
   ]
  },
  {
   "cell_type": "code",
   "execution_count": 9,
   "metadata": {
    "editable": true,
    "scrolled": true
   },
   "outputs": [
    {
     "data": {
      "application/vnd.jupyter.widget-view+json": {
       "model_id": "9c69bc1b67a54ea78aee8c2f489ba65b",
       "version_major": 2,
       "version_minor": 0
      },
      "text/plain": [
       "VBox()"
      ]
     },
     "metadata": {},
     "output_type": "display_data"
    },
    {
     "data": {
      "application/vnd.jupyter.widget-view+json": {
       "model_id": "",
       "version_major": 2,
       "version_minor": 0
      },
      "text/plain": [
       "FloatProgress(value=0.0, bar_style='info', description='Progress:', layout=Layout(height='25px', width='50%'),…"
      ]
     },
     "metadata": {},
     "output_type": "display_data"
    }
   ],
   "source": [
    "process_log_data(input_data, output_data)"
   ]
  },
  {
   "cell_type": "code",
   "execution_count": null,
   "metadata": {
    "editable": true
   },
   "outputs": [],
   "source": []
  }
 ],
 "metadata": {
  "kernelspec": {
   "display_name": "Python 3",
   "language": "python",
   "name": "python3"
  },
  "language_info": {
   "codemirror_mode": {
    "name": "ipython",
    "version": 3
   },
   "file_extension": ".py",
   "mimetype": "text/x-python",
   "name": "python",
   "nbconvert_exporter": "python",
   "pygments_lexer": "ipython3",
   "version": "3.6.3"
  }
 },
 "nbformat": 4,
 "nbformat_minor": 4
}
